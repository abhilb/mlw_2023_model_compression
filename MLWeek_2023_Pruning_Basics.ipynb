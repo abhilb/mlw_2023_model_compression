{
 "cells": [
  {
   "cell_type": "markdown",
   "id": "d7763015-12d6-484c-b630-b5f00109c278",
   "metadata": {},
   "source": [
    "# Pruning Basics in PyTorch"
   ]
  },
  {
   "cell_type": "code",
   "execution_count": 1,
   "id": "ece8a1ef-1671-4813-b4ff-4790494c8adb",
   "metadata": {},
   "outputs": [],
   "source": [
    "import torch\n",
    "from torch import nn\n",
    "from torch.nn.utils import prune"
   ]
  },
  {
   "cell_type": "markdown",
   "id": "51e70bfd-7d42-4859-817f-064afcbf878a",
   "metadata": {},
   "source": [
    "### Let us first create a tensor"
   ]
  },
  {
   "cell_type": "code",
   "execution_count": 2,
   "id": "4c19aaea-29f8-4dab-837a-8d1962b0bf3c",
   "metadata": {},
   "outputs": [
    {
     "data": {
      "text/plain": [
       "Conv2d(1, 1, kernel_size=(3, 3), stride=(1, 1))"
      ]
     },
     "execution_count": 2,
     "metadata": {},
     "output_type": "execute_result"
    }
   ],
   "source": [
    "module = nn.Conv2d(in_channels=1, out_channels=1, kernel_size=3)\n",
    "module"
   ]
  },
  {
   "cell_type": "code",
   "execution_count": 3,
   "id": "e5417c59-e307-45d2-999d-748c762a9c92",
   "metadata": {},
   "outputs": [
    {
     "data": {
      "text/plain": [
       "Parameter containing:\n",
       "tensor([[[[ 0.3094,  0.1524,  0.2887],\n",
       "          [-0.3017,  0.0797,  0.0339],\n",
       "          [ 0.0440, -0.3210, -0.0181]]]], requires_grad=True)"
      ]
     },
     "execution_count": 3,
     "metadata": {},
     "output_type": "execute_result"
    }
   ],
   "source": [
    "module.weight"
   ]
  },
  {
   "cell_type": "markdown",
   "id": "54e43364-08a7-43e5-a759-a040bd84889c",
   "metadata": {},
   "source": [
    "## Attributes of the created Tensor"
   ]
  },
  {
   "cell_type": "code",
   "execution_count": 4,
   "id": "4b7e4f05-3b52-4a47-b0d2-c4fb389d2cc0",
   "metadata": {},
   "outputs": [
    {
     "data": {
      "text/plain": [
       "[('weight',\n",
       "  Parameter containing:\n",
       "  tensor([[[[ 0.3094,  0.1524,  0.2887],\n",
       "            [-0.3017,  0.0797,  0.0339],\n",
       "            [ 0.0440, -0.3210, -0.0181]]]], requires_grad=True)),\n",
       " ('bias',\n",
       "  Parameter containing:\n",
       "  tensor([-0.0424], requires_grad=True))]"
      ]
     },
     "execution_count": 4,
     "metadata": {},
     "output_type": "execute_result"
    }
   ],
   "source": [
    "list(module.named_parameters())"
   ]
  },
  {
   "cell_type": "code",
   "execution_count": 5,
   "id": "b8206942-2caa-4b5d-b52d-06e7c91bb139",
   "metadata": {},
   "outputs": [
    {
     "data": {
      "text/plain": [
       "[]"
      ]
     },
     "execution_count": 5,
     "metadata": {},
     "output_type": "execute_result"
    }
   ],
   "source": [
    "list(module.named_buffers())"
   ]
  },
  {
   "cell_type": "code",
   "execution_count": 6,
   "id": "70df70dd-1c3f-430e-b01f-69107bdb21b0",
   "metadata": {},
   "outputs": [
    {
     "data": {
      "text/plain": [
       "OrderedDict()"
      ]
     },
     "execution_count": 6,
     "metadata": {},
     "output_type": "execute_result"
    }
   ],
   "source": [
    "module._forward_pre_hooks"
   ]
  },
  {
   "cell_type": "markdown",
   "id": "9e22581c-f155-4d35-b229-0452167bc083",
   "metadata": {},
   "source": [
    "## Prune 30% of the weights"
   ]
  },
  {
   "cell_type": "code",
   "execution_count": 7,
   "id": "eb09c50b-5f56-4cab-862c-ffa374363935",
   "metadata": {},
   "outputs": [
    {
     "data": {
      "text/plain": [
       "Conv2d(1, 1, kernel_size=(3, 3), stride=(1, 1))"
      ]
     },
     "execution_count": 7,
     "metadata": {},
     "output_type": "execute_result"
    }
   ],
   "source": [
    "prune.l1_unstructured(module, name=\"weight\", amount=0.33)"
   ]
  },
  {
   "cell_type": "markdown",
   "id": "8a9ecc61-0f45-4756-b6b9-ca4c49a5a722",
   "metadata": {},
   "source": [
    "## Attributes after Pruning"
   ]
  },
  {
   "cell_type": "code",
   "execution_count": 8,
   "id": "e160fbbe-03db-41c9-bcb3-956c2607af1f",
   "metadata": {},
   "outputs": [
    {
     "data": {
      "text/plain": [
       "[('bias',\n",
       "  Parameter containing:\n",
       "  tensor([-0.0424], requires_grad=True)),\n",
       " ('weight_orig',\n",
       "  Parameter containing:\n",
       "  tensor([[[[ 0.3094,  0.1524,  0.2887],\n",
       "            [-0.3017,  0.0797,  0.0339],\n",
       "            [ 0.0440, -0.3210, -0.0181]]]], requires_grad=True))]"
      ]
     },
     "execution_count": 8,
     "metadata": {},
     "output_type": "execute_result"
    }
   ],
   "source": [
    "list(module.named_parameters())"
   ]
  },
  {
   "cell_type": "code",
   "execution_count": 9,
   "id": "fb8629a9-69d0-441c-b0e1-47de63ce5d6e",
   "metadata": {},
   "outputs": [
    {
     "data": {
      "text/plain": [
       "[('weight_mask',\n",
       "  tensor([[[[1., 1., 1.],\n",
       "            [1., 1., 0.],\n",
       "            [0., 1., 0.]]]]))]"
      ]
     },
     "execution_count": 9,
     "metadata": {},
     "output_type": "execute_result"
    }
   ],
   "source": [
    "list(module.named_buffers())"
   ]
  },
  {
   "cell_type": "code",
   "execution_count": 10,
   "id": "e45c24ca-792e-4e64-a77c-efd0ada855b5",
   "metadata": {},
   "outputs": [
    {
     "data": {
      "text/plain": [
       "tensor([[[[ 0.3094,  0.1524,  0.2887],\n",
       "          [-0.3017,  0.0797,  0.0000],\n",
       "          [ 0.0000, -0.3210, -0.0000]]]], grad_fn=<MulBackward0>)"
      ]
     },
     "execution_count": 10,
     "metadata": {},
     "output_type": "execute_result"
    }
   ],
   "source": [
    "module.weight"
   ]
  },
  {
   "cell_type": "code",
   "execution_count": 11,
   "id": "3f1bcb74-bb64-4621-bde9-519ed6f3b941",
   "metadata": {},
   "outputs": [
    {
     "data": {
      "text/plain": [
       "OrderedDict([(0, <torch.nn.utils.prune.L1Unstructured at 0x7fe094dca590>)])"
      ]
     },
     "execution_count": 11,
     "metadata": {},
     "output_type": "execute_result"
    }
   ],
   "source": [
    "module._forward_pre_hooks"
   ]
  },
  {
   "cell_type": "markdown",
   "id": "5901dbbd-eeb1-421f-94e0-946364a99fb4",
   "metadata": {},
   "source": [
    "## Making the pruning permanent"
   ]
  },
  {
   "cell_type": "code",
   "execution_count": 12,
   "id": "540ba7f5-a69f-4542-a467-1959d5bb2a9d",
   "metadata": {},
   "outputs": [
    {
     "data": {
      "text/plain": [
       "Conv2d(1, 1, kernel_size=(3, 3), stride=(1, 1))"
      ]
     },
     "execution_count": 12,
     "metadata": {},
     "output_type": "execute_result"
    }
   ],
   "source": [
    "prune.remove(module, name=\"weight\")"
   ]
  },
  {
   "cell_type": "code",
   "execution_count": 13,
   "id": "044f4ef4-affa-4081-a459-8c978968ae72",
   "metadata": {},
   "outputs": [
    {
     "data": {
      "text/plain": [
       "[('bias',\n",
       "  Parameter containing:\n",
       "  tensor([-0.0424], requires_grad=True)),\n",
       " ('weight',\n",
       "  Parameter containing:\n",
       "  tensor([[[[ 0.3094,  0.1524,  0.2887],\n",
       "            [-0.3017,  0.0797,  0.0000],\n",
       "            [ 0.0000, -0.3210, -0.0000]]]], requires_grad=True))]"
      ]
     },
     "execution_count": 13,
     "metadata": {},
     "output_type": "execute_result"
    }
   ],
   "source": [
    "list(module.named_parameters())"
   ]
  },
  {
   "cell_type": "code",
   "execution_count": 14,
   "id": "ccf0272d-89e4-4876-a94b-dde445871169",
   "metadata": {},
   "outputs": [
    {
     "data": {
      "text/plain": [
       "OrderedDict()"
      ]
     },
     "execution_count": 14,
     "metadata": {},
     "output_type": "execute_result"
    }
   ],
   "source": [
    "module._forward_pre_hooks"
   ]
  },
  {
   "cell_type": "code",
   "execution_count": 15,
   "id": "95f8e3cb-bb38-4f05-a347-4abc24f48fc5",
   "metadata": {},
   "outputs": [
    {
     "data": {
      "text/plain": [
       "[]"
      ]
     },
     "execution_count": 15,
     "metadata": {},
     "output_type": "execute_result"
    }
   ],
   "source": [
    "list(module.named_buffers())"
   ]
  }
 ],
 "metadata": {
  "kernelspec": {
   "display_name": "Python 3 (ipykernel)",
   "language": "python",
   "name": "python3"
  },
  "language_info": {
   "codemirror_mode": {
    "name": "ipython",
    "version": 3
   },
   "file_extension": ".py",
   "mimetype": "text/x-python",
   "name": "python",
   "nbconvert_exporter": "python",
   "pygments_lexer": "ipython3",
   "version": "3.10.12"
  }
 },
 "nbformat": 4,
 "nbformat_minor": 5
}
